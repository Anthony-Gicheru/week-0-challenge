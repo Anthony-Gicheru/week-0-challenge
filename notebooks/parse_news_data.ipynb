{
 "cells": [
  {
   "cell_type": "code",
   "execution_count": 2,
   "metadata": {},
   "outputs": [],
   "source": [
    "import pandas as pd\n",
    "\n",
    "# Load CSV data into a DataFrame\n",
    "df_traffic = pd.read_csv('traffic.csv')\n",
    "df_rating = pd.read_csv('rating.csv')\n",
    "df_domains_location = pd.read_csv('domains_location.csv')\n",
    "\n",
    "top_news_websites = df_rating['source_name'].value_counts().nlargest(10)\n",
    "bottom_news_websites = df_rating['source_name'].value_counts().nsmallest(10)\n",
    "\n",
    "print(\"Top 10 news websites with the largest count of articles:\")\n",
    "print(top_news_websites)\n",
    "\n",
    "print(\"\\nBottom 10 news websites with the smallest count of articles:\")\n",
    "print(bottom_news_websites)\n"
   ]
  },
  {
   "cell_type": "code",
   "execution_count": 1,
   "metadata": {},
   "outputs": [
    {
     "ename": "NameError",
     "evalue": "name 'df_rating' is not defined",
     "output_type": "error",
     "traceback": [
      "\u001b[0;31m---------------------------------------------------------------------------\u001b[0m",
      "\u001b[0;31mNameError\u001b[0m                                 Traceback (most recent call last)",
      "Cell \u001b[0;32mIn[1], line 1\u001b[0m\n\u001b[0;32m----> 1\u001b[0m top_news_websites \u001b[38;5;241m=\u001b[39m \u001b[43mdf_rating\u001b[49m[\u001b[38;5;124m'\u001b[39m\u001b[38;5;124msource_name\u001b[39m\u001b[38;5;124m'\u001b[39m]\u001b[38;5;241m.\u001b[39mvalue_counts()\u001b[38;5;241m.\u001b[39mnlargest(\u001b[38;5;241m10\u001b[39m)\n\u001b[1;32m      2\u001b[0m bottom_news_websites \u001b[38;5;241m=\u001b[39m df_rating[\u001b[38;5;124m'\u001b[39m\u001b[38;5;124msource_name\u001b[39m\u001b[38;5;124m'\u001b[39m]\u001b[38;5;241m.\u001b[39mvalue_counts()\u001b[38;5;241m.\u001b[39mnsmallest(\u001b[38;5;241m10\u001b[39m)\n\u001b[1;32m      4\u001b[0m \u001b[38;5;28mprint\u001b[39m(\u001b[38;5;124m\"\u001b[39m\u001b[38;5;124mTop 10 news websites with the largest count of articles:\u001b[39m\u001b[38;5;124m\"\u001b[39m)\n",
      "\u001b[0;31mNameError\u001b[0m: name 'df_rating' is not defined"
     ]
    }
   ],
   "source": [
    "top_news_websites = df_rating['source_name'].value_counts().nlargest(10)\n",
    "bottom_news_websites = df_rating['source_name'].value_counts().nsmallest(10)\n",
    "\n",
    "print(\"Top 10 news websites with the largest count of articles:\")\n",
    "print(top_news_websites)\n",
    "\n",
    "print(\"\\nBottom 10 news websites with the smallest count of articles:\")\n",
    "print(bottom_news_websites)"
   ]
  },
  {
   "cell_type": "code",
   "execution_count": 3,
   "metadata": {},
   "outputs": [
    {
     "name": "stdout",
     "output_type": "stream",
     "text": [
      "Top 10 websites with the highest numbers of visitor traffic:\n",
      "                 Domain  GlobalRank\n",
      "0            google.com           1\n",
      "1          facebook.com           2\n",
      "2           youtube.com           3\n",
      "3           twitter.com           4\n",
      "4         instagram.com           5\n",
      "5          linkedin.com           6\n",
      "6             apple.com           7\n",
      "7         microsoft.com           8\n",
      "8  googletagmanager.com           9\n",
      "9         wikipedia.org          10\n"
     ]
    }
   ],
   "source": [
    "top_traffic_websites = df_traffic.sort_values(by='GlobalRank').head(10)\n",
    "print(\"Top 10 websites with the highest numbers of visitor traffic:\")\n",
    "print(top_traffic_websites[['Domain', 'GlobalRank']])"
   ]
  }
 ],
 "metadata": {
  "kernelspec": {
   "display_name": "Python 3",
   "language": "python",
   "name": "python3"
  },
  "language_info": {
   "codemirror_mode": {
    "name": "ipython",
    "version": 3
   },
   "file_extension": ".py",
   "mimetype": "text/x-python",
   "name": "python",
   "nbconvert_exporter": "python",
   "pygments_lexer": "ipython3",
   "version": "3.10.12"
  }
 },
 "nbformat": 4,
 "nbformat_minor": 2
}
